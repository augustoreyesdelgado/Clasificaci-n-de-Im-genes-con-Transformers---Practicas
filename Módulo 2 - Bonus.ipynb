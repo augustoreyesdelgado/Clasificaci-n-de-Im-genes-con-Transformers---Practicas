{
  "cells": [
    {
      "cell_type": "code",
      "execution_count": 1,
      "metadata": {
        "id": "rWC88I0Go6H9"
      },
      "outputs": [],
      "source": [
        "import os\n",
        "import pandas as pd\n",
        "import shutil\n",
        "from sklearn.model_selection import train_test_split"
      ]
    },
    {
      "cell_type": "code",
      "execution_count": null,
      "metadata": {
        "colab": {
          "base_uri": "https://localhost:8080/"
        },
        "id": "8MoOroxbpeN0",
        "outputId": "7b09df59-cb39-4811-8485-e8a5a0f1a683"
      },
      "outputs": [],
      "source": [
        "# Ruta al archivo ZIP\n",
        "zip_file_path = '/content/archive.zip'\n",
        "# Carpeta donde quieres descomprimirlo\n",
        "extract_path = '/content/mascotas'\n",
        "\n",
        "# Comando para descomprimir\n",
        "!unzip -q \"{zip_file_path}\" -d \"{extract_path}\"\n",
        "\n",
        "print(f\"Archivos descomprimidos en {extract_path}\")\n"
      ]
    },
    {
      "cell_type": "code",
      "execution_count": 10,
      "metadata": {
        "id": "pOY_sa8oo7kZ"
      },
      "outputs": [],
      "source": [
        "# Define las rutas de tus directorios\n",
        "train_dir = '/content/mascotas/test'\n",
        "val_dir = '/content/mascotas/validation'"
      ]
    },
    {
      "cell_type": "code",
      "execution_count": 11,
      "metadata": {
        "id": "Rfo8oclKo97H"
      },
      "outputs": [],
      "source": [
        "# Crea un DataFrame para almacenar nombres de archivos y sus clases\n",
        "data = {'filename': [], 'class': []}\n",
        "\n",
        "# Rellena el DataFrame con los nombres de archivos y clases\n",
        "for class_name in os.listdir(train_dir):\n",
        "    class_path = os.path.join(train_dir, class_name)\n",
        "    if os.path.isdir(class_path):\n",
        "        for file in os.listdir(class_path):\n",
        "            data['filename'].append(os.path.join(class_path, file))\n",
        "            data['class'].append(class_name)\n",
        "\n",
        "df = pd.DataFrame(data)"
      ]
    },
    {
      "cell_type": "code",
      "execution_count": 12,
      "metadata": {
        "id": "BvR_pykIo_Bi"
      },
      "outputs": [],
      "source": [
        "# Divide el DataFrame en entrenamiento y validación\n",
        "train_df, val_df = train_test_split(df, test_size=0.5, stratify=df['class'], random_state=42)\n",
        "\n",
        "# Crea el directorio de validación\n",
        "os.makedirs(val_dir, exist_ok=True)"
      ]
    },
    {
      "cell_type": "code",
      "execution_count": null,
      "metadata": {
        "colab": {
          "base_uri": "https://localhost:8080/"
        },
        "id": "NtA4z_sooPbL",
        "outputId": "fbded9b0-0874-4e21-9e90-2147408fdebc"
      },
      "outputs": [],
      "source": [
        "# Mueve las imágenes de validación al nuevo directorio\n",
        "for _, row in val_df.iterrows():\n",
        "    class_name = row['class']\n",
        "    filename = row['filename']\n",
        "\n",
        "    # Crea la carpeta para la clase en el conjunto de validación\n",
        "    class_val_dir = os.path.join(val_dir, class_name)\n",
        "    os.makedirs(class_val_dir, exist_ok=True)\n",
        "\n",
        "    # Mueve la imagen a la carpeta correspondiente\n",
        "    shutil.move(filename, os.path.join(class_val_dir, os.path.basename(filename)))\n",
        "\n",
        "print(f\"Se han movido {len(val_df)} imágenes al conjunto de validación.\")"
      ]
    },
    {
      "cell_type": "code",
      "execution_count": null,
      "metadata": {
        "colab": {
          "base_uri": "https://localhost:8080/",
          "height": 1000
        },
        "id": "EovCAL50rLZh",
        "outputId": "b6acd0a0-cc10-4a6e-f652-6e70dbf1df42"
      },
      "outputs": [],
      "source": [
        "from google.colab import files\n",
        "!zip -r mascotas.zip mascotas\n",
        "files.download('mascotas.zip')"
      ]
    }
  ],
  "metadata": {
    "colab": {
      "provenance": []
    },
    "kernelspec": {
      "display_name": "Python 3",
      "name": "python3"
    },
    "language_info": {
      "name": "python"
    }
  },
  "nbformat": 4,
  "nbformat_minor": 0
}
