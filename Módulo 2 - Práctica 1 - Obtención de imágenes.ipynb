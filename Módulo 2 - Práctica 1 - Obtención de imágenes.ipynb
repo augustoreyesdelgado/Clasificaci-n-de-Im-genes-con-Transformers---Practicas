{
  "nbformat": 4,
  "nbformat_minor": 0,
  "metadata": {
    "colab": {
      "provenance": [],
      "toc_visible": true
    },
    "kernelspec": {
      "name": "python3",
      "display_name": "Python 3"
    },
    "language_info": {
      "name": "python"
    }
  },
  "cells": [
    {
      "cell_type": "code",
      "execution_count": null,
      "metadata": {
        "id": "RHLEfatEtkaC"
      },
      "outputs": [],
      "source": [
        "pip install requests beautifulsoup4"
      ]
    },
    {
      "cell_type": "code",
      "source": [
        "import os\n",
        "import requests\n",
        "from bs4 import BeautifulSoup"
      ],
      "metadata": {
        "id": "8gmTWtStugcj"
      },
      "execution_count": null,
      "outputs": []
    },
    {
      "cell_type": "code",
      "source": [
        "# URL de la página de la que quieres hacer scraping\n",
        "url = 'https://www.freeimages.com/search/bird'  # Cambia esto por la URL deseada"
      ],
      "metadata": {
        "id": "6CPMPGLprFPR"
      },
      "execution_count": null,
      "outputs": []
    },
    {
      "cell_type": "code",
      "source": [
        "# Crear un directorio para guardar las imágenes\n",
        "os.makedirs('parrots', exist_ok=True)"
      ],
      "metadata": {
        "id": "lOW1hieFsN4T"
      },
      "execution_count": null,
      "outputs": []
    },
    {
      "cell_type": "code",
      "source": [
        "# Configurar encabezados\n",
        "headers = {\n",
        "    'User-Agent': 'Mozilla/5.0 (Windows NT 10.0; Win64; x64) AppleWebKit/537.36 (KHTML, like Gecko) Chrome/58.0.3029.110 Safari/537.3'\n",
        "}"
      ],
      "metadata": {
        "id": "MtEaSLRMrIg6"
      },
      "execution_count": null,
      "outputs": []
    },
    {
      "cell_type": "code",
      "source": [
        "# Configurar palabras relacionadas\n",
        "palabras_buscadas = ['bird', 'parrots']"
      ],
      "metadata": {
        "id": "IswLcmyzuQk2"
      },
      "execution_count": null,
      "outputs": []
    },
    {
      "cell_type": "code",
      "source": [
        "# Hacer una solicitud GET a la página\n",
        "try:\n",
        "    response = requests.get(url, headers=headers)\n",
        "    response.raise_for_status()  # Para verificar que la solicitud fue exitosa\n",
        "    soup = BeautifulSoup(response.text, 'html.parser')\n",
        "\n",
        "    # Encontrar todas las etiquetas <img>\n",
        "    imagenes = soup.find_all('img')\n",
        "    # Encontrar todas las etiquetas <img> y un texto alternativo con palabras relacionadas\n",
        "    # imagenes = soup.find_all('img', alt=lambda x: x and any(palabra in x for palabra in palabras_buscadas))\n",
        "\n",
        "    if not imagenes:\n",
        "        print(\"No se encontraron imágenes.\")\n",
        "\n",
        "    # Descargar cada imagen\n",
        "    for index, img in enumerate(imagenes):\n",
        "        img_url = img.get('src')\n",
        "        if not img_url.startswith('http'):\n",
        "            img_url = url + img_url  # Ajustar según la página\n",
        "\n",
        "        # Obtener el nombre de la imagen, añadiendo un índice\n",
        "        img_name = os.path.join('parrots', f'imagen_{index + 1}.jpg')\n",
        "\n",
        "        # Descargar la imagen\n",
        "        try:\n",
        "            img_data = requests.get(img_url, headers=headers).content\n",
        "            with open(img_name, 'wb') as f:\n",
        "                f.write(img_data)\n",
        "            print(f'Descargada: {img_name}')\n",
        "        except Exception as e:\n",
        "            print(f'No se pudo descargar {img_url}: {e}')\n",
        "\n",
        "except requests.exceptions.RequestException as e:\n",
        "    print(f'Error al hacer la solicitud: {e}')"
      ],
      "metadata": {
        "id": "jIjG79c_umrg"
      },
      "execution_count": null,
      "outputs": []
    },
    {
      "cell_type": "code",
      "source": [
        "from google.colab import files\n",
        "!zip -r imagenes.zip imagenes\n",
        "files.download('parrots.zip')"
      ],
      "metadata": {
        "id": "JhddulBIva8O"
      },
      "execution_count": null,
      "outputs": []
    }
  ]
}